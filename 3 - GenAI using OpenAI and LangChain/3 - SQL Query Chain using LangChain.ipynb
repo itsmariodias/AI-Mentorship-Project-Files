{
 "cells": [
  {
   "cell_type": "code",
   "execution_count": 1,
   "metadata": {},
   "outputs": [],
   "source": [
    "from langchain_openai import ChatOpenAI\n",
    "import os\n"
   ]
  },
  {
   "cell_type": "code",
   "execution_count": 2,
   "metadata": {},
   "outputs": [],
   "source": [
    "llm = ChatOpenAI(\n",
    "    openai_api_key=os.environ.get(\"OPENAI_API_KEY\"), model_name=\"gpt-4o-mini\"\n",
    ")\n"
   ]
  },
  {
   "cell_type": "code",
   "execution_count": 3,
   "metadata": {},
   "outputs": [],
   "source": [
    "from langchain_community.utilities import SQLDatabase\n",
    "\n",
    "db_uri = (\n",
    "    \"sqlite:///ai_project.db\"\n",
    ")\n",
    "\n",
    "database = SQLDatabase.from_uri(db_uri, sample_rows_in_table_info=5)\n"
   ]
  },
  {
   "cell_type": "code",
   "execution_count": 4,
   "metadata": {},
   "outputs": [],
   "source": [
    "from langchain_core.prompts import (\n",
    "    HumanMessagePromptTemplate,\n",
    "    SystemMessagePromptTemplate,\n",
    "    ChatPromptTemplate,\n",
    ")\n",
    "\n",
    "system_template = \"\"\"You are an SQL translator that translates the user's question into a SQL query. \n",
    "Form the query using SQLLite syntax and reference to the following table schema: \n",
    "{schema}\n",
    "\n",
    "Return the query without any formatting.\"\"\"\n",
    "system_prompt = SystemMessagePromptTemplate.from_template(system_template)\n",
    "\n",
    "human_template = \"Question: {question}\"\n",
    "human_prompt = HumanMessagePromptTemplate.from_template(human_template)\n",
    "\n",
    "sql_chat_prompt = ChatPromptTemplate.from_messages([system_prompt, human_prompt])\n"
   ]
  },
  {
   "cell_type": "code",
   "execution_count": 5,
   "metadata": {},
   "outputs": [],
   "source": [
    "def get_schema(_):\n",
    "    schema = database.get_table_info()\n",
    "    return schema\n"
   ]
  },
  {
   "cell_type": "code",
   "execution_count": 6,
   "metadata": {},
   "outputs": [],
   "source": [
    "from langchain_core.output_parsers import StrOutputParser\n",
    "from langchain_core.runnables import RunnablePassthrough\n",
    "\n",
    "sql_chain = (\n",
    "    RunnablePassthrough.assign(schema=get_schema)\n",
    "    | sql_chat_prompt\n",
    "    | llm\n",
    "    | StrOutputParser()\n",
    ")\n"
   ]
  },
  {
   "cell_type": "code",
   "execution_count": 7,
   "metadata": {},
   "outputs": [
    {
     "data": {
      "text/plain": [
       "\"SELECT * FROM TrainSchedule WHERE Destinations LIKE '%Mumbai%';\""
      ]
     },
     "execution_count": 7,
     "metadata": {},
     "output_type": "execute_result"
    }
   ],
   "source": [
    "user_question = \"Which trains will go to Mumbai?\"\n",
    "sql_chain.invoke({\"question\": user_question})\n"
   ]
  },
  {
   "cell_type": "code",
   "execution_count": 24,
   "metadata": {},
   "outputs": [],
   "source": [
    "system_template = \"\"\"You will be provided with a SQL query and its response.\n",
    "Based the table schema and question provided below derive the answer from the response. \n",
    "Be precise and concise do not provide any formatting.\n",
    "\n",
    "Additional instructions:\n",
    "1. The DaysOfOperation column contains either a list of days like Mon, Tue, Wed, etc., or Daily if the train operates every day of the week.\n",
    "2. Mention both the train name as well as the train number when asked for information regarding any train.\n",
    "\n",
    "Schema: {schema}\n",
    "Question: {question}\"\"\"\n",
    "system_prompt = SystemMessagePromptTemplate.from_template(system_template)\n",
    "\n",
    "human_template = \"\"\"Query: {query}\n",
    "Response: {response}\"\"\"\n",
    "human_prompt = HumanMessagePromptTemplate.from_template(human_template)\n",
    "\n",
    "answer_chat_prompt = ChatPromptTemplate.from_messages([system_prompt, human_prompt])\n"
   ]
  },
  {
   "cell_type": "code",
   "execution_count": 25,
   "metadata": {},
   "outputs": [],
   "source": [
    "def run_query(query):\n",
    "    return database.run(query)\n"
   ]
  },
  {
   "cell_type": "code",
   "execution_count": 26,
   "metadata": {},
   "outputs": [],
   "source": [
    "full_chain = (\n",
    "    RunnablePassthrough.assign(query=sql_chain).assign(\n",
    "        schema=get_schema,\n",
    "        response=lambda vars: run_query(vars[\"query\"]),\n",
    "    )\n",
    "    | answer_chat_prompt\n",
    "    | llm\n",
    "    | StrOutputParser()\n",
    ")\n"
   ]
  },
  {
   "cell_type": "code",
   "execution_count": 27,
   "metadata": {},
   "outputs": [
    {
     "data": {
      "text/plain": [
       "'Konkan Kanya Express, Train Number 11014'"
      ]
     },
     "execution_count": 27,
     "metadata": {},
     "output_type": "execute_result"
    }
   ],
   "source": [
    "user_question = \"Which trains will go to Mumbai?\"\n",
    "full_chain.invoke({\"question\": user_question})\n"
   ]
  },
  {
   "cell_type": "code",
   "execution_count": 28,
   "metadata": {},
   "outputs": [
    {
     "data": {
      "text/plain": [
       "'The fastest train to Bangalore is Brindavan Express.'"
      ]
     },
     "execution_count": 28,
     "metadata": {},
     "output_type": "execute_result"
    }
   ],
   "source": [
    "user_question = \"Which is the fastest train to Bangalore?\"\n",
    "full_chain.invoke({\"question\": user_question})\n"
   ]
  },
  {
   "cell_type": "code",
   "execution_count": 29,
   "metadata": {},
   "outputs": [
    {
     "data": {
      "text/plain": [
       "'The next train to Surat is the Golden Temple Mail (Train Number 12903), which will arrive at 18:00:00 on platform 2.'"
      ]
     },
     "execution_count": 29,
     "metadata": {},
     "output_type": "execute_result"
    }
   ],
   "source": [
    "user_question = \"When is the next train to Surat? Can you tell me when it will arrive and on which platform?\"\n",
    "full_chain.invoke({\"question\": user_question})\n"
   ]
  },
  {
   "cell_type": "code",
   "execution_count": 30,
   "metadata": {},
   "outputs": [
    {
     "name": "stdout",
     "output_type": "stream",
     "text": [
      "The trains that do not function on weekends are:\n",
      "1. Rajdhani Express (Train Number: 12301)\n",
      "2. Karnataka Express (Train Number: 12622)\n",
      "3. Shatabdi Express (Train Number: 22406)\n",
      "4. Andhra Pradesh Express (Train Number: 12716)\n",
      "5. Gorakhpur Express (Train Number: 12555)\n",
      "6. Magadh Express (Train Number: 12391)\n",
      "7. Intercity Express (Train Number: 12012)\n"
     ]
    }
   ],
   "source": [
    "user_question = \"Which trains do not function on weekends?\"\n",
    "print(full_chain.invoke({\"question\": user_question}))\n"
   ]
  },
  {
   "cell_type": "code",
   "execution_count": null,
   "metadata": {},
   "outputs": [],
   "source": []
  }
 ],
 "metadata": {
  "kernelspec": {
   "display_name": "Python 3 (ipykernel)",
   "language": "python",
   "name": "python3"
  },
  "language_info": {
   "codemirror_mode": {
    "name": "ipython",
    "version": 3
   },
   "file_extension": ".py",
   "mimetype": "text/x-python",
   "name": "python",
   "nbconvert_exporter": "python",
   "pygments_lexer": "ipython3",
   "version": "3.10.14"
  }
 },
 "nbformat": 4,
 "nbformat_minor": 4
}
