{
 "cells": [
  {
   "cell_type": "code",
   "execution_count": 1,
   "metadata": {},
   "outputs": [],
   "source": [
    "import getpass\n",
    "import os\n",
    "\n",
    "# os.environ[\"OPENAI_API_KEY\"] = getpass.getpass()\n"
   ]
  },
  {
   "cell_type": "code",
   "execution_count": 2,
   "metadata": {},
   "outputs": [],
   "source": [
    "from langchain_openai import ChatOpenAI\n",
    "\n",
    "llm = ChatOpenAI(model=\"gpt-4o-mini\")\n"
   ]
  },
  {
   "cell_type": "code",
   "execution_count": 11,
   "metadata": {},
   "outputs": [],
   "source": [
    "from langchain_community.document_loaders import UnstructuredWordDocumentLoader\n",
    "\n",
    "docs = []\n",
    "for doc in [\"documents/signoff.docx\", \"documents/commentary.docx\"]:\n",
    "    loader = UnstructuredWordDocumentLoader(doc)\n",
    "    docs.extend(loader.load())\n"
   ]
  },
  {
   "cell_type": "code",
   "execution_count": 12,
   "metadata": {},
   "outputs": [
    {
     "data": {
      "text/plain": [
       "[Document(metadata={'source': 'documents/signoff.docx'}, page_content='To signoff on any task you have to do the following:\\n\\n1. Select the workpackage you want to work on from the left pane of the screen.\\n\\n2. If the workpackage is disabled or not assigned to you, click the Assign to me button located under the workpackage name.\\n\\n3. If the workpackage is assigned to someone else, please contact the person and inform them to unassign themselves or contact the Central Team if the person is unavailable.\\n\\n4. After clicking on the workpackage the list of signoffs will appear on the center on the page.\\n\\n5. Select the signoff you want to work on. A popup will appear.\\n\\n6. In the popup assert either yes or no on all the questions that appear. Select the signoff type from the dropdown located at the bottom of the page.\\n\\n7. If the signoff with caveat type is selected, you have to enter a caveat commentary in the text box that appears. The message must be between the range of 10 – 3500 characters.\\n\\n8. When all fields are filled, the signoff button will be enabled. Click the signoff button to save the signoff.\\n\\n9. The status of the signoff will then go from Pending to Complete.'),\n",
       " Document(metadata={'source': 'documents/commentary.docx'}, page_content='To insert commentary, you have to do the following:\\n\\n1. Click on the workpackage which is assigned to you.\\n\\n2. On the central of the page you will see the list of unit of works and their statuses.\\n\\n3. Click on the unit of work you want to work on, it will direct you to the balance sheet page and highlight the row in yellow.\\n\\n4. Click the highlighted row. It will open a new popup which contains a commentary form.\\n\\n5. Enter the commentary message, the date of the commentary and the commentary type.\\n\\n6. The commentary message should be in the range of 10 – 2500 characters.\\n\\n7. The date should be valid and not a future date.\\n\\n8. When all fields are filled, click the Add button on the bottom right of the popup.\\n\\n9. The commentary will be visible on the balance sheet.\\n\\n10. If the Add button is disabled, check if there are any fields that are not filled or missing.\\n\\n11. Any box highlighted in red indicates that either the text entered is invalid or empty.')]"
      ]
     },
     "execution_count": 12,
     "metadata": {},
     "output_type": "execute_result"
    }
   ],
   "source": [
    "docs\n"
   ]
  },
  {
   "cell_type": "code",
   "execution_count": 13,
   "metadata": {},
   "outputs": [],
   "source": [
    "from langchain_openai import OpenAIEmbeddings\n",
    "from langchain_text_splitters import RecursiveCharacterTextSplitter\n",
    "from langchain_chroma import Chroma\n",
    "\n",
    "text_splitter = RecursiveCharacterTextSplitter(chunk_size=1000, chunk_overlap=200)\n",
    "splits = text_splitter.split_documents(docs)\n",
    "vectorstore = Chroma.from_documents(documents=splits, embedding=OpenAIEmbeddings())\n"
   ]
  },
  {
   "cell_type": "code",
   "execution_count": 15,
   "metadata": {},
   "outputs": [
    {
     "name": "stderr",
     "output_type": "stream",
     "text": [
      "Number of requested results 6 is greater than number of elements in index 3, updating n_results = 3\n"
     ]
    },
    {
     "data": {
      "text/plain": [
       "3"
      ]
     },
     "execution_count": 15,
     "metadata": {},
     "output_type": "execute_result"
    }
   ],
   "source": [
    "retriever = vectorstore.as_retriever(search_type=\"similarity\", search_kwargs={\"k\": 6})\n",
    "\n",
    "retrieved_docs = retriever.invoke(\"How to perform signoff?\")\n",
    "\n",
    "len(retrieved_docs)\n"
   ]
  },
  {
   "cell_type": "code",
   "execution_count": 19,
   "metadata": {},
   "outputs": [],
   "source": [
    "from langchain_core.output_parsers import StrOutputParser\n",
    "from langchain_core.runnables import RunnablePassthrough\n",
    "from langchain_core.prompts import ChatPromptTemplate, HumanMessagePromptTemplate\n",
    "\n",
    "template = \"\"\"\n",
    "You are an assistant for question-answering tasks. \n",
    "Use the following pieces of retrieved context to answer the question. \n",
    "If you don't know the answer, just say that you don't know. \n",
    "Use three sentences maximum and keep the answer concise.\n",
    "\n",
    "Question: {question} \n",
    "\n",
    "Context: {context} \n",
    "\n",
    "Answer:\n",
    "\"\"\"\n",
    "\n",
    "human_prompt = HumanMessagePromptTemplate.from_template(template)\n",
    "prompt = ChatPromptTemplate.from_messages([human_prompt])\n",
    "\n",
    "def format_docs(docs):\n",
    "    return \"\\n\\n\".join(doc.page_content for doc in docs)\n",
    "\n",
    "\n",
    "rag_chain = (\n",
    "    {\"context\": retriever | format_docs, \"question\": RunnablePassthrough()}\n",
    "    | prompt\n",
    "    | llm\n",
    "    | StrOutputParser()\n",
    ")\n"
   ]
  },
  {
   "cell_type": "code",
   "execution_count": 20,
   "metadata": {},
   "outputs": [
    {
     "name": "stderr",
     "output_type": "stream",
     "text": [
      "Number of requested results 6 is greater than number of elements in index 3, updating n_results = 3\n"
     ]
    },
    {
     "data": {
      "text/plain": [
       "\"To perform a signoff, select the workpackage you want to work on and ensure it's assigned to you. Then, choose the signoff you wish to complete, answer the questions in the popup, and select the signoff type. Once all fields are filled, click the signoff button to save, changing the status from Pending to Complete.\""
      ]
     },
     "execution_count": 20,
     "metadata": {},
     "output_type": "execute_result"
    }
   ],
   "source": [
    "rag_chain.invoke(\"How to perform signoff?\")\n"
   ]
  },
  {
   "cell_type": "code",
   "execution_count": 21,
   "metadata": {},
   "outputs": [
    {
     "name": "stderr",
     "output_type": "stream",
     "text": [
      "Number of requested results 6 is greater than number of elements in index 3, updating n_results = 3\n"
     ]
    },
    {
     "data": {
      "text/plain": [
       "'If the signoff button is disabled, ensure that all required fields are filled out correctly, including any caveat commentary if applicable. The message must be within the range of 10 to 3500 characters. Once all fields are completed, the signoff button should become enabled.'"
      ]
     },
     "execution_count": 21,
     "metadata": {},
     "output_type": "execute_result"
    }
   ],
   "source": [
    "rag_chain.invoke(\"I am trying to signoff but the signoff button is disabled, what to do?\")\n"
   ]
  },
  {
   "cell_type": "code",
   "execution_count": 22,
   "metadata": {},
   "outputs": [
    {
     "name": "stderr",
     "output_type": "stream",
     "text": [
      "Number of requested results 6 is greater than number of elements in index 3, updating n_results = 3\n"
     ]
    },
    {
     "data": {
      "text/plain": [
       "'To open your workpackage, ensure you have selected it from the left pane. If it\\'s disabled or assigned to someone else, click \"Assign to me\" or contact the current assignee or Central Team. After selecting the workpackage, you should see the list of signoffs in the center of the page.'"
      ]
     },
     "execution_count": 22,
     "metadata": {},
     "output_type": "execute_result"
    }
   ],
   "source": [
    "rag_chain.invoke(\"I can't open my workpackage.\")\n"
   ]
  },
  {
   "cell_type": "code",
   "execution_count": null,
   "metadata": {},
   "outputs": [],
   "source": []
  }
 ],
 "metadata": {
  "kernelspec": {
   "display_name": "ai-practice-projects",
   "language": "python",
   "name": "python3"
  },
  "language_info": {
   "codemirror_mode": {
    "name": "ipython",
    "version": 3
   },
   "file_extension": ".py",
   "mimetype": "text/x-python",
   "name": "python",
   "nbconvert_exporter": "python",
   "pygments_lexer": "ipython3",
   "version": "3.10.14"
  }
 },
 "nbformat": 4,
 "nbformat_minor": 2
}
